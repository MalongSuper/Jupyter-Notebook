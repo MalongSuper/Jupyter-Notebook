{
 "cells": [
  {
   "cell_type": "markdown",
   "id": "105ecc16",
   "metadata": {},
   "source": [
    "## Classification Models"
   ]
  },
  {
   "cell_type": "markdown",
   "id": "25ed0aad",
   "metadata": {},
   "source": [
    "In this lab, we will construct three classification models: Decision Tree Classifier, Rule-Based Classifier, and Naive Bayes Classifier for a same dataset, then compare the metrics."
   ]
  },
  {
   "cell_type": "code",
   "execution_count": 44,
   "id": "08d55c26",
   "metadata": {},
   "outputs": [
    {
     "data": {
      "application/vnd.microsoft.datawrangler.viewer.v0+json": {
       "columns": [
        {
         "name": "index",
         "rawType": "int64",
         "type": "integer"
        },
        {
         "name": "Money",
         "rawType": "object",
         "type": "string"
        },
        {
         "name": "In a Relationship",
         "rawType": "object",
         "type": "string"
        },
        {
         "name": "Weather",
         "rawType": "object",
         "type": "string"
        },
        {
         "name": "Duration",
         "rawType": "object",
         "type": "string"
        },
        {
         "name": "Transportation",
         "rawType": "object",
         "type": "string"
        },
        {
         "name": "Go on Trip",
         "rawType": "object",
         "type": "string"
        }
       ],
       "ref": "60105b32-0f96-437d-875b-7d866f6cfcba",
       "rows": [
        [
         "0",
         "High",
         "Yes",
         "Sunny",
         "Long",
         "Easy",
         "Yes"
        ],
        [
         "1",
         "High",
         "No",
         "Good",
         "Medium",
         "Easy",
         "Yes"
        ],
        [
         "2",
         "Low",
         "Yes",
         "Stormy",
         "Short",
         "Hard",
         "No"
        ],
        [
         "3",
         "High",
         "No",
         "Sunny",
         "Long",
         "Easy",
         "Yes"
        ],
        [
         "4",
         "High",
         "Yes",
         "Light Rain",
         "Medium",
         "Hard",
         "No"
        ],
        [
         "5",
         "High",
         "Yes",
         "Good",
         "Short",
         "Easy",
         "Yes"
        ],
        [
         "6",
         "High",
         "Yes",
         "Stormy",
         "Long",
         "Hard",
         "No"
        ],
        [
         "7",
         "Low",
         "No",
         "Sunny",
         "Medium",
         "Easy",
         "No"
        ]
       ],
       "shape": {
        "columns": 6,
        "rows": 8
       }
      },
      "text/html": [
       "<div>\n",
       "<style scoped>\n",
       "    .dataframe tbody tr th:only-of-type {\n",
       "        vertical-align: middle;\n",
       "    }\n",
       "\n",
       "    .dataframe tbody tr th {\n",
       "        vertical-align: top;\n",
       "    }\n",
       "\n",
       "    .dataframe thead th {\n",
       "        text-align: right;\n",
       "    }\n",
       "</style>\n",
       "<table border=\"1\" class=\"dataframe\">\n",
       "  <thead>\n",
       "    <tr style=\"text-align: right;\">\n",
       "      <th></th>\n",
       "      <th>Money</th>\n",
       "      <th>In a Relationship</th>\n",
       "      <th>Weather</th>\n",
       "      <th>Duration</th>\n",
       "      <th>Transportation</th>\n",
       "      <th>Go on Trip</th>\n",
       "    </tr>\n",
       "  </thead>\n",
       "  <tbody>\n",
       "    <tr>\n",
       "      <th>0</th>\n",
       "      <td>High</td>\n",
       "      <td>Yes</td>\n",
       "      <td>Sunny</td>\n",
       "      <td>Long</td>\n",
       "      <td>Easy</td>\n",
       "      <td>Yes</td>\n",
       "    </tr>\n",
       "    <tr>\n",
       "      <th>1</th>\n",
       "      <td>High</td>\n",
       "      <td>No</td>\n",
       "      <td>Good</td>\n",
       "      <td>Medium</td>\n",
       "      <td>Easy</td>\n",
       "      <td>Yes</td>\n",
       "    </tr>\n",
       "    <tr>\n",
       "      <th>2</th>\n",
       "      <td>Low</td>\n",
       "      <td>Yes</td>\n",
       "      <td>Stormy</td>\n",
       "      <td>Short</td>\n",
       "      <td>Hard</td>\n",
       "      <td>No</td>\n",
       "    </tr>\n",
       "    <tr>\n",
       "      <th>3</th>\n",
       "      <td>High</td>\n",
       "      <td>No</td>\n",
       "      <td>Sunny</td>\n",
       "      <td>Long</td>\n",
       "      <td>Easy</td>\n",
       "      <td>Yes</td>\n",
       "    </tr>\n",
       "    <tr>\n",
       "      <th>4</th>\n",
       "      <td>High</td>\n",
       "      <td>Yes</td>\n",
       "      <td>Light Rain</td>\n",
       "      <td>Medium</td>\n",
       "      <td>Hard</td>\n",
       "      <td>No</td>\n",
       "    </tr>\n",
       "    <tr>\n",
       "      <th>5</th>\n",
       "      <td>High</td>\n",
       "      <td>Yes</td>\n",
       "      <td>Good</td>\n",
       "      <td>Short</td>\n",
       "      <td>Easy</td>\n",
       "      <td>Yes</td>\n",
       "    </tr>\n",
       "    <tr>\n",
       "      <th>6</th>\n",
       "      <td>High</td>\n",
       "      <td>Yes</td>\n",
       "      <td>Stormy</td>\n",
       "      <td>Long</td>\n",
       "      <td>Hard</td>\n",
       "      <td>No</td>\n",
       "    </tr>\n",
       "    <tr>\n",
       "      <th>7</th>\n",
       "      <td>Low</td>\n",
       "      <td>No</td>\n",
       "      <td>Sunny</td>\n",
       "      <td>Medium</td>\n",
       "      <td>Easy</td>\n",
       "      <td>No</td>\n",
       "    </tr>\n",
       "  </tbody>\n",
       "</table>\n",
       "</div>"
      ],
      "text/plain": [
       "  Money In a Relationship     Weather Duration Transportation Go on Trip\n",
       "0  High               Yes       Sunny     Long           Easy        Yes\n",
       "1  High                No        Good   Medium           Easy        Yes\n",
       "2   Low               Yes      Stormy    Short           Hard         No\n",
       "3  High                No       Sunny     Long           Easy        Yes\n",
       "4  High               Yes  Light Rain   Medium           Hard         No\n",
       "5  High               Yes        Good    Short           Easy        Yes\n",
       "6  High               Yes      Stormy     Long           Hard         No\n",
       "7   Low                No       Sunny   Medium           Easy         No"
      ]
     },
     "execution_count": 44,
     "metadata": {},
     "output_type": "execute_result"
    }
   ],
   "source": [
    "import pandas as pd\n",
    "import wittgenstein as lw\n",
    "from sklearn.model_selection import train_test_split\n",
    "from sklearn.tree import DecisionTreeClassifier\n",
    "from sklearn.naive_bayes import CategoricalNB\n",
    "from sklearn.preprocessing import LabelEncoder\n",
    "from sklearn.metrics import accuracy_score, confusion_matrix\n",
    "import matplotlib.pyplot as plt\n",
    "import seaborn as sns\n",
    "import numpy as np\n",
    "\n",
    "df = pd.read_csv('lab_datasets/trip_dataset.csv').drop(columns=['#No'])\n",
    "df"
   ]
  },
  {
   "cell_type": "markdown",
   "id": "e1e60e92",
   "metadata": {},
   "source": [
    "Encoding categorical variables"
   ]
  },
  {
   "cell_type": "code",
   "execution_count": 45,
   "id": "53caeedc",
   "metadata": {},
   "outputs": [
    {
     "data": {
      "application/vnd.microsoft.datawrangler.viewer.v0+json": {
       "columns": [
        {
         "name": "index",
         "rawType": "int64",
         "type": "integer"
        },
        {
         "name": "Money",
         "rawType": "int64",
         "type": "integer"
        },
        {
         "name": "In a Relationship",
         "rawType": "int64",
         "type": "integer"
        },
        {
         "name": "Weather",
         "rawType": "int64",
         "type": "integer"
        },
        {
         "name": "Duration",
         "rawType": "int64",
         "type": "integer"
        },
        {
         "name": "Transportation",
         "rawType": "int64",
         "type": "integer"
        },
        {
         "name": "Go on Trip",
         "rawType": "int64",
         "type": "integer"
        }
       ],
       "ref": "4239dfb1-ddec-4b6d-860f-2804accb12e4",
       "rows": [
        [
         "0",
         "0",
         "1",
         "3",
         "0",
         "0",
         "1"
        ],
        [
         "1",
         "0",
         "0",
         "0",
         "1",
         "0",
         "1"
        ],
        [
         "2",
         "1",
         "1",
         "2",
         "2",
         "1",
         "0"
        ],
        [
         "3",
         "0",
         "0",
         "3",
         "0",
         "0",
         "1"
        ],
        [
         "4",
         "0",
         "1",
         "1",
         "1",
         "1",
         "0"
        ],
        [
         "5",
         "0",
         "1",
         "0",
         "2",
         "0",
         "1"
        ],
        [
         "6",
         "0",
         "1",
         "2",
         "0",
         "1",
         "0"
        ],
        [
         "7",
         "1",
         "0",
         "3",
         "1",
         "0",
         "0"
        ]
       ],
       "shape": {
        "columns": 6,
        "rows": 8
       }
      },
      "text/html": [
       "<div>\n",
       "<style scoped>\n",
       "    .dataframe tbody tr th:only-of-type {\n",
       "        vertical-align: middle;\n",
       "    }\n",
       "\n",
       "    .dataframe tbody tr th {\n",
       "        vertical-align: top;\n",
       "    }\n",
       "\n",
       "    .dataframe thead th {\n",
       "        text-align: right;\n",
       "    }\n",
       "</style>\n",
       "<table border=\"1\" class=\"dataframe\">\n",
       "  <thead>\n",
       "    <tr style=\"text-align: right;\">\n",
       "      <th></th>\n",
       "      <th>Money</th>\n",
       "      <th>In a Relationship</th>\n",
       "      <th>Weather</th>\n",
       "      <th>Duration</th>\n",
       "      <th>Transportation</th>\n",
       "      <th>Go on Trip</th>\n",
       "    </tr>\n",
       "  </thead>\n",
       "  <tbody>\n",
       "    <tr>\n",
       "      <th>0</th>\n",
       "      <td>0</td>\n",
       "      <td>1</td>\n",
       "      <td>3</td>\n",
       "      <td>0</td>\n",
       "      <td>0</td>\n",
       "      <td>1</td>\n",
       "    </tr>\n",
       "    <tr>\n",
       "      <th>1</th>\n",
       "      <td>0</td>\n",
       "      <td>0</td>\n",
       "      <td>0</td>\n",
       "      <td>1</td>\n",
       "      <td>0</td>\n",
       "      <td>1</td>\n",
       "    </tr>\n",
       "    <tr>\n",
       "      <th>2</th>\n",
       "      <td>1</td>\n",
       "      <td>1</td>\n",
       "      <td>2</td>\n",
       "      <td>2</td>\n",
       "      <td>1</td>\n",
       "      <td>0</td>\n",
       "    </tr>\n",
       "    <tr>\n",
       "      <th>3</th>\n",
       "      <td>0</td>\n",
       "      <td>0</td>\n",
       "      <td>3</td>\n",
       "      <td>0</td>\n",
       "      <td>0</td>\n",
       "      <td>1</td>\n",
       "    </tr>\n",
       "    <tr>\n",
       "      <th>4</th>\n",
       "      <td>0</td>\n",
       "      <td>1</td>\n",
       "      <td>1</td>\n",
       "      <td>1</td>\n",
       "      <td>1</td>\n",
       "      <td>0</td>\n",
       "    </tr>\n",
       "    <tr>\n",
       "      <th>5</th>\n",
       "      <td>0</td>\n",
       "      <td>1</td>\n",
       "      <td>0</td>\n",
       "      <td>2</td>\n",
       "      <td>0</td>\n",
       "      <td>1</td>\n",
       "    </tr>\n",
       "    <tr>\n",
       "      <th>6</th>\n",
       "      <td>0</td>\n",
       "      <td>1</td>\n",
       "      <td>2</td>\n",
       "      <td>0</td>\n",
       "      <td>1</td>\n",
       "      <td>0</td>\n",
       "    </tr>\n",
       "    <tr>\n",
       "      <th>7</th>\n",
       "      <td>1</td>\n",
       "      <td>0</td>\n",
       "      <td>3</td>\n",
       "      <td>1</td>\n",
       "      <td>0</td>\n",
       "      <td>0</td>\n",
       "    </tr>\n",
       "  </tbody>\n",
       "</table>\n",
       "</div>"
      ],
      "text/plain": [
       "   Money  In a Relationship  Weather  Duration  Transportation  Go on Trip\n",
       "0      0                  1        3         0               0           1\n",
       "1      0                  0        0         1               0           1\n",
       "2      1                  1        2         2               1           0\n",
       "3      0                  0        3         0               0           1\n",
       "4      0                  1        1         1               1           0\n",
       "5      0                  1        0         2               0           1\n",
       "6      0                  1        2         0               1           0\n",
       "7      1                  0        3         1               0           0"
      ]
     },
     "execution_count": 45,
     "metadata": {},
     "output_type": "execute_result"
    }
   ],
   "source": [
    "# Encode categorical variables\n",
    "encoder = LabelEncoder()\n",
    "for i in df.columns.tolist():\n",
    "    df[i] = encoder.fit_transform(df[i])\n",
    "    \n",
    "df"
   ]
  },
  {
   "cell_type": "markdown",
   "id": "bfe6394c",
   "metadata": {},
   "source": [
    "For lab purposes, we will use the whole dataset since it is small"
   ]
  },
  {
   "cell_type": "code",
   "execution_count": 67,
   "id": "e90874f6",
   "metadata": {},
   "outputs": [],
   "source": [
    "target = 'Go on Trip'\n",
    "\n",
    "X = df[df.columns.drop(target)]\n",
    "y = df[target]"
   ]
  },
  {
   "cell_type": "markdown",
   "id": "44c8d785",
   "metadata": {},
   "source": [
    "Train with Decision Tree"
   ]
  },
  {
   "cell_type": "code",
   "execution_count": 68,
   "id": "51af1674",
   "metadata": {},
   "outputs": [
    {
     "name": "stdout",
     "output_type": "stream",
     "text": [
      "Accuracy: 1.0\n"
     ]
    },
    {
     "data": {
      "image/png": "[encoded data removed]",
      "text/plain": [
       "<Figure size 600x400 with 2 Axes>"
      ]
     },
     "metadata": {},
     "output_type": "display_data"
    }
   ],
   "source": [
    "# Train with Decision Tree\n",
    "model_decisiontree = DecisionTreeClassifier(random_state=42)\n",
    "model_decisiontree.fit(X, y)\n",
    "\n",
    "y_pred = model_decisiontree.predict(X)\n",
    "\n",
    "cm = confusion_matrix(y, y_pred)\n",
    "accuracy = accuracy_score(y, y_pred)\n",
    "print(\"Accuracy:\", accuracy)\n",
    "\n",
    "unique_labels = np.unique(y).tolist()\n",
    "# Plot\n",
    "plt.figure(figsize=(6,4))\n",
    "sns.heatmap(cm, annot=True, cmap=\"Blues\", \n",
    "            xticklabels=unique_labels, yticklabels=unique_labels)\n",
    "plt.xlabel(\"Predicted Label\")\n",
    "plt.ylabel(\"True Label\")\n",
    "plt.title(\"Confusion Matrix - Model: Decision Tree Classifier\")\n",
    "plt.show()"
   ]
  },
  {
   "cell_type": "code",
   "execution_count": 70,
   "id": "98096935",
   "metadata": {},
   "outputs": [
    {
     "name": "stdout",
     "output_type": "stream",
     "text": [
      "Accuracy: 0.875\n"
     ]
    },
    {
     "data": {
      "image/png": "[encoded data removed]",
      "text/plain": [
       "<Figure size 600x400 with 2 Axes>"
      ]
     },
     "metadata": {},
     "output_type": "display_data"
    }
   ],
   "source": [
    "# Train with Naive Bayes\n",
    "model_naivebayes = CategoricalNB(alpha=1)\n",
    "model_naivebayes.fit(X, y)\n",
    "\n",
    "y_pred = model_naivebayes.predict(X)\n",
    "\n",
    "cm = confusion_matrix(y, y_pred)\n",
    "accuracy = accuracy_score(y, y_pred)\n",
    "print(\"Accuracy:\", accuracy)\n",
    "\n",
    "unique_labels = np.unique(y).tolist()\n",
    "# Plot\n",
    "plt.figure(figsize=(6,4))\n",
    "sns.heatmap(cm, annot=True, cmap=\"Blues\", \n",
    "            xticklabels=unique_labels, yticklabels=unique_labels)\n",
    "plt.xlabel(\"Predicted Label\")\n",
    "plt.ylabel(\"True Label\")\n",
    "plt.title(\"Confusion Matrix - Model: Naive Bayes Classifier\")\n",
    "plt.show()"
   ]
  },
  {
   "cell_type": "code",
   "execution_count": 73,
   "id": "36ca3c96",
   "metadata": {},
   "outputs": [
    {
     "name": "stdout",
     "output_type": "stream",
     "text": [
      "Accuracy: 0.625\n"
     ]
    },
    {
     "data": {
      "image/png": "[encoded data removed]",
      "text/plain": [
       "<Figure size 600x400 with 2 Axes>"
      ]
     },
     "metadata": {},
     "output_type": "display_data"
    }
   ],
   "source": [
    "# Train with Ripper\n",
    "model_ripper = lw.RIPPER(random_state=42)\n",
    "model_ripper.fit(X, y)\n",
    "\n",
    "y_pred = model_ripper.predict(X)\n",
    "\n",
    "cm = confusion_matrix(y, y_pred)\n",
    "accuracy = accuracy_score(y, y_pred)\n",
    "print(\"Accuracy:\", accuracy)\n",
    "\n",
    "unique_labels = np.unique(y).tolist()\n",
    "# Plot\n",
    "plt.figure(figsize=(6,4))\n",
    "sns.heatmap(cm, annot=True, cmap=\"Blues\", \n",
    "            xticklabels=unique_labels, yticklabels=unique_labels)\n",
    "plt.xlabel(\"Predicted Label\")\n",
    "plt.ylabel(\"True Label\")\n",
    "plt.title(\"Confusion Matrix - Model: Rule-Based Classifier using Ripper\")\n",
    "plt.show()"
   ]
  }
 ],
 "metadata": {
  "kernelspec": {
   "display_name": ".venv (3.13.7)",
   "language": "python",
   "name": "python3"
  },
  "language_info": {
   "codemirror_mode": {
    "name": "ipython",
    "version": 3
   },
   "file_extension": ".py",
   "mimetype": "text/x-python",
   "name": "python",
   "nbconvert_exporter": "python",
   "pygments_lexer": "ipython3",
   "version": "3.13.7"
  }
 },
 "nbformat": 4,
 "nbformat_minor": 5
}
